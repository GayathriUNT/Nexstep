{
 "cells": [
  {
   "cell_type": "markdown",
   "metadata": {},
   "source": [
    "\n",
    "# Mapping function for alphanumeric code "
   ]
  },
  {
   "cell_type": "markdown",
   "metadata": {},
   "source": [
    "### Table of Contents\n",
    "[1.  Introduction](#1_Introduction) <br>\n",
    "[2. Imports](#2_Imports) <br>\n",
    "[3. Loading Data from census.gov 'sf1'](#3_Load_census)<br>\n",
    "&emsp;[3.1 Loading Data from Census.gov 'sf2'](#3.1_Load_census2)<br>\n",
    "&emsp;[3.2 Combining both Census Dataframes](#3.2_combine_census)<br>\n",
    "[4. Fuction Definitions](#4_fun) <br>\n",
    "&emsp;[4.1 Mapping function to get the description of alphanumeric code](#4.1_map_function)<br>\n",
    "&emsp;[4.2 Mapping function to genetate Alphanumeric code](#4.2_map_function1)<br>\n",
    "[5. Loading Text Files](#5_load_text) <br>\n",
    "[6. Read text files to DataFrame  ](#6_text_to_df)<br>\n",
    "[7. Get the Description of Alphanumeric code ](#7_get_descript)<br>\n",
    "[8. Rename columns](#8_rename_col)<br>\n",
    "[9. Cleaning the DataFrame](#9_clean_df)\n",
    "[10. Saving the DataFrame to CSV file](10_save_df)\n",
    "\n",
    "\n"
   ]
  },
  {
   "cell_type": "markdown",
   "metadata": {},
   "source": [
    "### 1. Introduction<a id='1_Introduction'></a>"
   ]
  },
  {
   "cell_type": "markdown",
   "metadata": {},
   "source": [
    "We have queried census data into multiple files.  This data has a headers that consists of alphanumeric codes. The full description of the alphanumeric code could be found in the table which is located here in this html page: https://api.census.gov/data/2010/dec/sf1/variables.html. This project is to create a mapping function that gives the descirption of the alphanumeric code in the Cencus data files."
   ]
  },
  {
   "cell_type": "markdown",
   "metadata": {},
   "source": [
    "### 2. Imports <a id='2_Imports'></a>"
   ]
  },
  {
   "cell_type": "code",
   "execution_count": 1,
   "metadata": {},
   "outputs": [],
   "source": [
    "import pandas as pd\n"
   ]
  },
  {
   "cell_type": "markdown",
   "metadata": {},
   "source": [
    "### 3. Loading Data from cencus.gov 'sf1' <a id='3_Load_census'></a>"
   ]
  },
  {
   "cell_type": "code",
   "execution_count": 2,
   "metadata": {},
   "outputs": [],
   "source": [
    "# Census data URL\n",
    "url = 'https://api.census.gov/data/2010/dec/sf1/variables.html'\n",
    "\n",
    "# URL to DataFrame\n",
    "data_frame = pd.read_html(url)"
   ]
  },
  {
   "cell_type": "code",
   "execution_count": 125,
   "metadata": {
    "scrolled": true
   },
   "outputs": [],
   "source": [
    "census_df1 = data_frame[0].copy()"
   ]
  },
  {
   "cell_type": "code",
   "execution_count": 126,
   "metadata": {},
   "outputs": [
    {
     "data": {
      "text/html": [
       "<div>\n",
       "<style scoped>\n",
       "    .dataframe tbody tr th:only-of-type {\n",
       "        vertical-align: middle;\n",
       "    }\n",
       "\n",
       "    .dataframe tbody tr th {\n",
       "        vertical-align: top;\n",
       "    }\n",
       "\n",
       "    .dataframe thead th {\n",
       "        text-align: right;\n",
       "    }\n",
       "</style>\n",
       "<table border=\"1\" class=\"dataframe\">\n",
       "  <thead>\n",
       "    <tr style=\"text-align: right;\">\n",
       "      <th></th>\n",
       "      <th>Name</th>\n",
       "      <th>Label</th>\n",
       "      <th>Concept</th>\n",
       "      <th>Required</th>\n",
       "      <th>Attributes</th>\n",
       "      <th>Limit</th>\n",
       "      <th>Predicate Type</th>\n",
       "      <th>Group</th>\n",
       "      <th>Unnamed: 8</th>\n",
       "    </tr>\n",
       "  </thead>\n",
       "  <tbody>\n",
       "    <tr>\n",
       "      <th>0</th>\n",
       "      <td>AIANHH</td>\n",
       "      <td>American Indian Area/Alaska Native Area/Hawaii...</td>\n",
       "      <td>NaN</td>\n",
       "      <td>not required</td>\n",
       "      <td>NaN</td>\n",
       "      <td>0</td>\n",
       "      <td>(not a predicate)</td>\n",
       "      <td>NaN</td>\n",
       "      <td>NaN</td>\n",
       "    </tr>\n",
       "    <tr>\n",
       "      <th>1</th>\n",
       "      <td>AIHHTLI</td>\n",
       "      <td>American Indian Area (Off-Reservation Trust La...</td>\n",
       "      <td>NaN</td>\n",
       "      <td>not required</td>\n",
       "      <td>NaN</td>\n",
       "      <td>0</td>\n",
       "      <td>(not a predicate)</td>\n",
       "      <td>NaN</td>\n",
       "      <td>NaN</td>\n",
       "    </tr>\n",
       "    <tr>\n",
       "      <th>2</th>\n",
       "      <td>AITSCE</td>\n",
       "      <td>American Indian Tribal Subdivision (Census)</td>\n",
       "      <td>NaN</td>\n",
       "      <td>not required</td>\n",
       "      <td>NaN</td>\n",
       "      <td>0</td>\n",
       "      <td>(not a predicate)</td>\n",
       "      <td>NaN</td>\n",
       "      <td>NaN</td>\n",
       "    </tr>\n",
       "    <tr>\n",
       "      <th>3</th>\n",
       "      <td>ANRC</td>\n",
       "      <td>Alaska Native Regional Corporation</td>\n",
       "      <td>NaN</td>\n",
       "      <td>not required</td>\n",
       "      <td>NaN</td>\n",
       "      <td>0</td>\n",
       "      <td>(not a predicate)</td>\n",
       "      <td>NaN</td>\n",
       "      <td>NaN</td>\n",
       "    </tr>\n",
       "    <tr>\n",
       "      <th>4</th>\n",
       "      <td>BLKGRP</td>\n",
       "      <td>Census Block Group</td>\n",
       "      <td>NaN</td>\n",
       "      <td>not required</td>\n",
       "      <td>NaN</td>\n",
       "      <td>0</td>\n",
       "      <td>(not a predicate)</td>\n",
       "      <td>NaN</td>\n",
       "      <td>NaN</td>\n",
       "    </tr>\n",
       "  </tbody>\n",
       "</table>\n",
       "</div>"
      ],
      "text/plain": [
       "      Name                                              Label Concept  \\\n",
       "0   AIANHH  American Indian Area/Alaska Native Area/Hawaii...     NaN   \n",
       "1  AIHHTLI  American Indian Area (Off-Reservation Trust La...     NaN   \n",
       "2   AITSCE        American Indian Tribal Subdivision (Census)     NaN   \n",
       "3     ANRC                 Alaska Native Regional Corporation     NaN   \n",
       "4   BLKGRP                                 Census Block Group     NaN   \n",
       "\n",
       "       Required Attributes Limit     Predicate Type Group Unnamed: 8  \n",
       "0  not required        NaN     0  (not a predicate)   NaN        NaN  \n",
       "1  not required        NaN     0  (not a predicate)   NaN        NaN  \n",
       "2  not required        NaN     0  (not a predicate)   NaN        NaN  \n",
       "3  not required        NaN     0  (not a predicate)   NaN        NaN  \n",
       "4  not required        NaN     0  (not a predicate)   NaN        NaN  "
      ]
     },
     "execution_count": 126,
     "metadata": {},
     "output_type": "execute_result"
    }
   ],
   "source": [
    "#Final census data dataframe\n",
    "census_df1.head(5)"
   ]
  },
  {
   "cell_type": "code",
   "execution_count": 127,
   "metadata": {},
   "outputs": [
    {
     "data": {
      "text/plain": [
       "(9001, 9)"
      ]
     },
     "execution_count": 127,
     "metadata": {},
     "output_type": "execute_result"
    }
   ],
   "source": [
    "census_df1.shape"
   ]
  },
  {
   "cell_type": "code",
   "execution_count": 128,
   "metadata": {},
   "outputs": [],
   "source": [
    "census_df1.drop(columns='Unnamed: 8',inplace=True)"
   ]
  },
  {
   "cell_type": "markdown",
   "metadata": {},
   "source": [
    "### 3.1 Loading Data from Census.gov 'sf2'<a id='3.1_Load_census2'></a>"
   ]
  },
  {
   "cell_type": "code",
   "execution_count": 121,
   "metadata": {},
   "outputs": [],
   "source": [
    "# Census data URL\n",
    "url = 'https://api.census.gov/data/2010/dec/sf2/variables.html'\n",
    "\n",
    "# URL to DataFrame\n",
    "data_frame1 = pd.read_html(url)"
   ]
  },
  {
   "cell_type": "code",
   "execution_count": 122,
   "metadata": {},
   "outputs": [],
   "source": [
    "census_df2 = data_frame1[0].copy()"
   ]
  },
  {
   "cell_type": "code",
   "execution_count": 123,
   "metadata": {},
   "outputs": [
    {
     "data": {
      "text/html": [
       "<div>\n",
       "<style scoped>\n",
       "    .dataframe tbody tr th:only-of-type {\n",
       "        vertical-align: middle;\n",
       "    }\n",
       "\n",
       "    .dataframe tbody tr th {\n",
       "        vertical-align: top;\n",
       "    }\n",
       "\n",
       "    .dataframe thead th {\n",
       "        text-align: right;\n",
       "    }\n",
       "</style>\n",
       "<table border=\"1\" class=\"dataframe\">\n",
       "  <thead>\n",
       "    <tr style=\"text-align: right;\">\n",
       "      <th></th>\n",
       "      <th>Name</th>\n",
       "      <th>Label</th>\n",
       "      <th>Concept</th>\n",
       "      <th>Required</th>\n",
       "      <th>Attributes</th>\n",
       "      <th>Limit</th>\n",
       "      <th>Predicate Type</th>\n",
       "      <th>Group</th>\n",
       "      <th>Unnamed: 8</th>\n",
       "    </tr>\n",
       "  </thead>\n",
       "  <tbody>\n",
       "    <tr>\n",
       "      <th>0</th>\n",
       "      <td>AIANHH</td>\n",
       "      <td>American Indian Area/Alaska Native Area/Hawaii...</td>\n",
       "      <td>NaN</td>\n",
       "      <td>not required</td>\n",
       "      <td>NaN</td>\n",
       "      <td>0</td>\n",
       "      <td>(not a predicate)</td>\n",
       "      <td>NaN</td>\n",
       "      <td>NaN</td>\n",
       "    </tr>\n",
       "    <tr>\n",
       "      <th>1</th>\n",
       "      <td>AIHHTLI</td>\n",
       "      <td>American Indian Area (Off-Reservation Trust La...</td>\n",
       "      <td>NaN</td>\n",
       "      <td>not required</td>\n",
       "      <td>NaN</td>\n",
       "      <td>0</td>\n",
       "      <td>(not a predicate)</td>\n",
       "      <td>NaN</td>\n",
       "      <td>NaN</td>\n",
       "    </tr>\n",
       "    <tr>\n",
       "      <th>2</th>\n",
       "      <td>AITSCE</td>\n",
       "      <td>American Indian Tribal Subdivision (Census)</td>\n",
       "      <td>NaN</td>\n",
       "      <td>not required</td>\n",
       "      <td>NaN</td>\n",
       "      <td>0</td>\n",
       "      <td>(not a predicate)</td>\n",
       "      <td>NaN</td>\n",
       "      <td>NaN</td>\n",
       "    </tr>\n",
       "  </tbody>\n",
       "</table>\n",
       "</div>"
      ],
      "text/plain": [
       "      Name                                              Label Concept  \\\n",
       "0   AIANHH  American Indian Area/Alaska Native Area/Hawaii...     NaN   \n",
       "1  AIHHTLI  American Indian Area (Off-Reservation Trust La...     NaN   \n",
       "2   AITSCE        American Indian Tribal Subdivision (Census)     NaN   \n",
       "\n",
       "       Required Attributes Limit     Predicate Type Group Unnamed: 8  \n",
       "0  not required        NaN     0  (not a predicate)   NaN        NaN  \n",
       "1  not required        NaN     0  (not a predicate)   NaN        NaN  \n",
       "2  not required        NaN     0  (not a predicate)   NaN        NaN  "
      ]
     },
     "execution_count": 123,
     "metadata": {},
     "output_type": "execute_result"
    }
   ],
   "source": [
    "census_df2.head(3)"
   ]
  },
  {
   "cell_type": "code",
   "execution_count": 124,
   "metadata": {},
   "outputs": [],
   "source": [
    "census_df2.drop(columns='Unnamed: 8',inplace=True)"
   ]
  },
  {
   "cell_type": "markdown",
   "metadata": {},
   "source": [
    "### 3.2 Combining both Census Dataframes<a id='3.2_combine_census'></a>"
   ]
  },
  {
   "cell_type": "code",
   "execution_count": 131,
   "metadata": {},
   "outputs": [],
   "source": [
    "census_df = pd.concat([census_df1,census_df2])"
   ]
  },
  {
   "cell_type": "code",
   "execution_count": 132,
   "metadata": {},
   "outputs": [
    {
     "data": {
      "text/html": [
       "<div>\n",
       "<style scoped>\n",
       "    .dataframe tbody tr th:only-of-type {\n",
       "        vertical-align: middle;\n",
       "    }\n",
       "\n",
       "    .dataframe tbody tr th {\n",
       "        vertical-align: top;\n",
       "    }\n",
       "\n",
       "    .dataframe thead th {\n",
       "        text-align: right;\n",
       "    }\n",
       "</style>\n",
       "<table border=\"1\" class=\"dataframe\">\n",
       "  <thead>\n",
       "    <tr style=\"text-align: right;\">\n",
       "      <th></th>\n",
       "      <th>Name</th>\n",
       "      <th>Label</th>\n",
       "      <th>Concept</th>\n",
       "      <th>Required</th>\n",
       "      <th>Attributes</th>\n",
       "      <th>Limit</th>\n",
       "      <th>Predicate Type</th>\n",
       "      <th>Group</th>\n",
       "    </tr>\n",
       "  </thead>\n",
       "  <tbody>\n",
       "    <tr>\n",
       "      <th>0</th>\n",
       "      <td>AIANHH</td>\n",
       "      <td>American Indian Area/Alaska Native Area/Hawaii...</td>\n",
       "      <td>NaN</td>\n",
       "      <td>not required</td>\n",
       "      <td>NaN</td>\n",
       "      <td>0</td>\n",
       "      <td>(not a predicate)</td>\n",
       "      <td>NaN</td>\n",
       "    </tr>\n",
       "    <tr>\n",
       "      <th>1</th>\n",
       "      <td>AIHHTLI</td>\n",
       "      <td>American Indian Area (Off-Reservation Trust La...</td>\n",
       "      <td>NaN</td>\n",
       "      <td>not required</td>\n",
       "      <td>NaN</td>\n",
       "      <td>0</td>\n",
       "      <td>(not a predicate)</td>\n",
       "      <td>NaN</td>\n",
       "    </tr>\n",
       "    <tr>\n",
       "      <th>2</th>\n",
       "      <td>AITSCE</td>\n",
       "      <td>American Indian Tribal Subdivision (Census)</td>\n",
       "      <td>NaN</td>\n",
       "      <td>not required</td>\n",
       "      <td>NaN</td>\n",
       "      <td>0</td>\n",
       "      <td>(not a predicate)</td>\n",
       "      <td>NaN</td>\n",
       "    </tr>\n",
       "    <tr>\n",
       "      <th>3</th>\n",
       "      <td>ANRC</td>\n",
       "      <td>Alaska Native Regional Corporation</td>\n",
       "      <td>NaN</td>\n",
       "      <td>not required</td>\n",
       "      <td>NaN</td>\n",
       "      <td>0</td>\n",
       "      <td>(not a predicate)</td>\n",
       "      <td>NaN</td>\n",
       "    </tr>\n",
       "  </tbody>\n",
       "</table>\n",
       "</div>"
      ],
      "text/plain": [
       "      Name                                              Label Concept  \\\n",
       "0   AIANHH  American Indian Area/Alaska Native Area/Hawaii...     NaN   \n",
       "1  AIHHTLI  American Indian Area (Off-Reservation Trust La...     NaN   \n",
       "2   AITSCE        American Indian Tribal Subdivision (Census)     NaN   \n",
       "3     ANRC                 Alaska Native Regional Corporation     NaN   \n",
       "\n",
       "       Required Attributes Limit     Predicate Type Group  \n",
       "0  not required        NaN     0  (not a predicate)   NaN  \n",
       "1  not required        NaN     0  (not a predicate)   NaN  \n",
       "2  not required        NaN     0  (not a predicate)   NaN  \n",
       "3  not required        NaN     0  (not a predicate)   NaN  "
      ]
     },
     "execution_count": 132,
     "metadata": {},
     "output_type": "execute_result"
    }
   ],
   "source": [
    "census_df.head(4)"
   ]
  },
  {
   "cell_type": "code",
   "execution_count": 139,
   "metadata": {},
   "outputs": [],
   "source": [
    "census_df.drop_duplicates(subset=['Name'],inplace=True)"
   ]
  },
  {
   "cell_type": "markdown",
   "metadata": {},
   "source": [
    "### Fuction Definitions <a id='4_fun'></a>"
   ]
  },
  {
   "cell_type": "markdown",
   "metadata": {},
   "source": [
    "### 4.1 Mapping function to get the description of alpha numeric code <a id='4.1_map_function'></a>"
   ]
  },
  {
   "cell_type": "code",
   "execution_count": 282,
   "metadata": {},
   "outputs": [],
   "source": [
    "#Mapping function to return the column label\n",
    "def column_label(col):\n",
    "    cond = census_df['Name'] == col\n",
    "    result = census_df[cond]['Label']\n",
    "    return result"
   ]
  },
  {
   "cell_type": "code",
   "execution_count": 141,
   "metadata": {},
   "outputs": [
    {
     "data": {
      "text/plain": [
       "0    American Indian Area/Alaska Native Area/Hawaii...\n",
       "Name: Label, dtype: object"
      ]
     },
     "execution_count": 141,
     "metadata": {},
     "output_type": "execute_result"
    }
   ],
   "source": [
    "#Just testing the function\n",
    "column_label('AIANHH')\n"
   ]
  },
  {
   "cell_type": "markdown",
   "metadata": {},
   "source": [
    "### 4.2 Mapping function to genetate Alphanumeric code<a id='4.2_map_function1'></a>"
   ]
  },
  {
   "cell_type": "code",
   "execution_count": 274,
   "metadata": {},
   "outputs": [],
   "source": [
    "def rename_alphanumeric(df_rename):\n",
    "    df_rename.drop(columns=['GEO_ID.1','NAME.1'],inplace= True)\n",
    "    t = df_rename.columns.str.contains('Unnamed:')\n",
    "    if t is True: \n",
    "        df_rename.drop(columns=[t],inplace= True)\n",
    "    \n",
    "    l = ['PCO','PCT','P03','H02','P02','P01','H01','P00']\n",
    "    lis = df_rename.columns[df_rename.columns.str.contains('|'.join(l))]\n",
    "    lis_col = [x for x in lis if (len(x) == 9) or (len(x) == 8) or (len(x) == 7)]\n",
    "    \n",
    "    dic = {}\n",
    "    for col in lis_col:\n",
    "        descript = column_label(col)\n",
    "        dic[col] = str(descript.values)\n",
    "    return dic"
   ]
  },
  {
   "cell_type": "markdown",
   "metadata": {},
   "source": [
    " ### 5.  Loading Text Files <a id='5_load_text'></a>"
   ]
  },
  {
   "cell_type": "code",
   "execution_count": 23,
   "metadata": {},
   "outputs": [
    {
     "name": "stdout",
     "output_type": "stream",
     "text": [
      "['C:/Users/Gayathri/Desktop/Nexstep_data\\\\census2010sf2_GROUP QUARTERS POPULATION IN OTHER INSTITUTIONAL FACILITIES BY SEX BY AGE.txt', 'C:/Users/Gayathri/Desktop/Nexstep_data\\\\census2010sf2_NONRELATIVES BY HOUSEHOLD TYPE.txt', 'C:/Users/Gayathri/Desktop/Nexstep_data\\\\census2010_ALLOCATION OF TENURE.txt', 'C:/Users/Gayathri/Desktop/Nexstep_data\\\\census2010_FAMILY TYPE BY PRESENCE AND AGE OF OWN CHILDREN (HISPANIC OR LATINO HOUSEHOLDER).txt', 'C:/Users/Gayathri/Desktop/Nexstep_data\\\\census2010_GROUP QUARTERS POPULATION BY SEX BY AGE BY GROUP QUARTERS TYPE.txt', 'C:/Users/Gayathri/Desktop/Nexstep_data\\\\census2010_GROUP_QUARTERS_POPULATION.txt', 'C:/Users/Gayathri/Desktop/Nexstep_data\\\\census2010_HOUSEHOLD TYPE BY RELATIONSHIP (ASIAN ALONE).txt', 'C:/Users/Gayathri/Desktop/Nexstep_data\\\\census2010_MEDIAN AGE BY SEX (SOME OTHER RACE ALONE).txt', 'C:/Users/Gayathri/Desktop/Nexstep_data\\\\census2010_PRESENCE OF MULTIGENERATIONAL HOUSEHOLDS.txt', 'C:/Users/Gayathri/Desktop/Nexstep_data\\\\census2010_TOTAL POPULATION IN OCCUPIED HOUSING UNITS BY TENURE (WHITE ALONE HOUSEHOLDER).txt', 'C:/Users/Gayathri/Desktop/Nexstep_data\\\\census2010_TOTAL POPULATION.txt', 'C:/Users/Gayathri/Desktop/Nexstep_data\\\\census2010_URBAN AND RURAL.txt']\n"
     ]
    }
   ],
   "source": [
    "import glob\n",
    "import os\n",
    "\n",
    "myFilesPaths = glob.glob(r'C:/Users/Gayathri/Desktop/Nexstep_data/*.txt')\n",
    "print(myFilesPaths)\n",
    "os.chdir(r'C:/Users/Gayathri/Desktop/Nexstep_data/')\n",
    "myFiles = glob.glob('*.txt')"
   ]
  },
  {
   "cell_type": "markdown",
   "metadata": {},
   "source": [
    "### 6. Read text files to DataFrame  <a id='6_text_to_df'></a>"
   ]
  },
  {
   "cell_type": "code",
   "execution_count": 272,
   "metadata": {},
   "outputs": [],
   "source": [
    "from io import StringIO \n",
    "\n",
    "with open(myFilesPaths[11], 'r') as infile:\n",
    "    data = infile.read()\n",
    "    data = data.replace('][',',\\n')\n",
    "    data = data.replace(\"[\", \"\")\n",
    "    data = data.replace(\"]\",\"\")\n",
    "\n",
    "# Read the text file to DataFrame\n",
    "df = pd.read_csv(StringIO(data), error_bad_lines=False,low_memory=False)\n",
    "\n",
    "\n",
    "\n"
   ]
  },
  {
   "cell_type": "code",
   "execution_count": 273,
   "metadata": {
    "scrolled": true
   },
   "outputs": [
    {
     "data": {
      "text/html": [
       "<div>\n",
       "<style scoped>\n",
       "    .dataframe tbody tr th:only-of-type {\n",
       "        vertical-align: middle;\n",
       "    }\n",
       "\n",
       "    .dataframe tbody tr th {\n",
       "        vertical-align: top;\n",
       "    }\n",
       "\n",
       "    .dataframe thead th {\n",
       "        text-align: right;\n",
       "    }\n",
       "</style>\n",
       "<table border=\"1\" class=\"dataframe\">\n",
       "  <thead>\n",
       "    <tr style=\"text-align: right;\">\n",
       "      <th></th>\n",
       "      <th>NAME</th>\n",
       "      <th>GEO_ID</th>\n",
       "      <th>GEO_ID.1</th>\n",
       "      <th>P002001</th>\n",
       "      <th>P002002</th>\n",
       "      <th>P002003</th>\n",
       "      <th>P002004</th>\n",
       "      <th>P002005</th>\n",
       "      <th>P002006</th>\n",
       "      <th>NAME.1</th>\n",
       "      <th>P002001ERR</th>\n",
       "      <th>state</th>\n",
       "      <th>county</th>\n",
       "      <th>tract</th>\n",
       "      <th>Unnamed: 14</th>\n",
       "    </tr>\n",
       "  </thead>\n",
       "  <tbody>\n",
       "    <tr>\n",
       "      <th>0</th>\n",
       "      <td>Census Tract 201, Autauga County, Alabama</td>\n",
       "      <td>1400000US01001020100</td>\n",
       "      <td>1400000US01001020100</td>\n",
       "      <td>1912</td>\n",
       "      <td>1594</td>\n",
       "      <td>1594</td>\n",
       "      <td>0</td>\n",
       "      <td>318</td>\n",
       "      <td>0</td>\n",
       "      <td>Census Tract 201, Autauga County, Alabama</td>\n",
       "      <td>NaN</td>\n",
       "      <td>01</td>\n",
       "      <td>001</td>\n",
       "      <td>020100</td>\n",
       "      <td>NaN</td>\n",
       "    </tr>\n",
       "    <tr>\n",
       "      <th>1</th>\n",
       "      <td>Census Tract 205, Autauga County, Alabama</td>\n",
       "      <td>1400000US01001020500</td>\n",
       "      <td>1400000US01001020500</td>\n",
       "      <td>10766</td>\n",
       "      <td>10762</td>\n",
       "      <td>10762</td>\n",
       "      <td>0</td>\n",
       "      <td>4</td>\n",
       "      <td>0</td>\n",
       "      <td>Census Tract 205, Autauga County, Alabama</td>\n",
       "      <td>NaN</td>\n",
       "      <td>01</td>\n",
       "      <td>001</td>\n",
       "      <td>020500</td>\n",
       "      <td>NaN</td>\n",
       "    </tr>\n",
       "    <tr>\n",
       "      <th>2</th>\n",
       "      <td>Census Tract 203, Autauga County, Alabama</td>\n",
       "      <td>1400000US01001020300</td>\n",
       "      <td>1400000US01001020300</td>\n",
       "      <td>3373</td>\n",
       "      <td>3373</td>\n",
       "      <td>3373</td>\n",
       "      <td>0</td>\n",
       "      <td>0</td>\n",
       "      <td>0</td>\n",
       "      <td>Census Tract 203, Autauga County, Alabama</td>\n",
       "      <td>NaN</td>\n",
       "      <td>01</td>\n",
       "      <td>001</td>\n",
       "      <td>020300</td>\n",
       "      <td>NaN</td>\n",
       "    </tr>\n",
       "    <tr>\n",
       "      <th>3</th>\n",
       "      <td>Census Tract 204, Autauga County, Alabama</td>\n",
       "      <td>1400000US01001020400</td>\n",
       "      <td>1400000US01001020400</td>\n",
       "      <td>4386</td>\n",
       "      <td>4386</td>\n",
       "      <td>4386</td>\n",
       "      <td>0</td>\n",
       "      <td>0</td>\n",
       "      <td>0</td>\n",
       "      <td>Census Tract 204, Autauga County, Alabama</td>\n",
       "      <td>NaN</td>\n",
       "      <td>01</td>\n",
       "      <td>001</td>\n",
       "      <td>020400</td>\n",
       "      <td>NaN</td>\n",
       "    </tr>\n",
       "  </tbody>\n",
       "</table>\n",
       "</div>"
      ],
      "text/plain": [
       "                                        NAME                GEO_ID  \\\n",
       "0  Census Tract 201, Autauga County, Alabama  1400000US01001020100   \n",
       "1  Census Tract 205, Autauga County, Alabama  1400000US01001020500   \n",
       "2  Census Tract 203, Autauga County, Alabama  1400000US01001020300   \n",
       "3  Census Tract 204, Autauga County, Alabama  1400000US01001020400   \n",
       "\n",
       "               GEO_ID.1 P002001 P002002 P002003 P002004 P002005 P002006  \\\n",
       "0  1400000US01001020100    1912    1594    1594       0     318       0   \n",
       "1  1400000US01001020500   10766   10762   10762       0       4       0   \n",
       "2  1400000US01001020300    3373    3373    3373       0       0       0   \n",
       "3  1400000US01001020400    4386    4386    4386       0       0       0   \n",
       "\n",
       "                                      NAME.1 P002001ERR state county   tract  \\\n",
       "0  Census Tract 201, Autauga County, Alabama        NaN    01    001  020100   \n",
       "1  Census Tract 205, Autauga County, Alabama        NaN    01    001  020500   \n",
       "2  Census Tract 203, Autauga County, Alabama        NaN    01    001  020300   \n",
       "3  Census Tract 204, Autauga County, Alabama        NaN    01    001  020400   \n",
       "\n",
       "   Unnamed: 14  \n",
       "0          NaN  \n",
       "1          NaN  \n",
       "2          NaN  \n",
       "3          NaN  "
      ]
     },
     "execution_count": 273,
     "metadata": {},
     "output_type": "execute_result"
    }
   ],
   "source": [
    "df.head(4)"
   ]
  },
  {
   "cell_type": "markdown",
   "metadata": {},
   "source": [
    "### 7. Get the Description of Alphanumeric code <a id='7_get_descript'></a>"
   ]
  },
  {
   "cell_type": "code",
   "execution_count": 275,
   "metadata": {},
   "outputs": [
    {
     "data": {
      "text/plain": [
       "{'P002001': \"['Total']\",\n",
       " 'P002002': \"['Total!!Urban']\",\n",
       " 'P002003': \"['Total!!Urban!!Inside urbanized areas']\",\n",
       " 'P002004': \"['Total!!Urban!!Inside urban clusters']\",\n",
       " 'P002005': \"['Total!!Rural']\",\n",
       " 'P002006': \"['Total!!Not defined for this file']\"}"
      ]
     },
     "execution_count": 275,
     "metadata": {},
     "output_type": "execute_result"
    }
   ],
   "source": [
    "# Call the function to get the description of the Alphaumneric code store in Dictionary\n",
    "dict_descript = rename_alphanumeric(df)\n",
    "\n",
    "dict_descript"
   ]
  },
  {
   "cell_type": "markdown",
   "metadata": {},
   "source": [
    "### 8. Rename columns <a id='8_rename_col'></a>"
   ]
  },
  {
   "cell_type": "code",
   "execution_count": 276,
   "metadata": {},
   "outputs": [],
   "source": [
    "# Rename column with description\n",
    "df.rename(columns=dict_descript,inplace=True)"
   ]
  },
  {
   "cell_type": "markdown",
   "metadata": {},
   "source": [
    "### 9. Cleaning the DataFrame<a id='9_clean_df'></a>"
   ]
  },
  {
   "cell_type": "code",
   "execution_count": 277,
   "metadata": {},
   "outputs": [],
   "source": [
    "index_name = df[df['NAME']=='NAME'].index\n",
    "df.drop(index_name,inplace = True)"
   ]
  },
  {
   "cell_type": "code",
   "execution_count": 278,
   "metadata": {},
   "outputs": [],
   "source": [
    "df.drop(columns = 'Unnamed: 14',inplace=True)"
   ]
  },
  {
   "cell_type": "markdown",
   "metadata": {},
   "source": [
    "### 10. Saving the DataFrame to CSV file<a id='10_save_df'></a>"
   ]
  },
  {
   "cell_type": "code",
   "execution_count": 279,
   "metadata": {},
   "outputs": [],
   "source": [
    "filename = 'C:/Users/Gayathri/Desktop/Nexstep_data/mapped/' + 'mapped_'+ myFiles[11]\n",
    "df.to_csv(filename, index=False,na_rep='NULL')\n"
   ]
  }
 ],
 "metadata": {
  "kernelspec": {
   "display_name": "Python 3",
   "language": "python",
   "name": "python3"
  },
  "language_info": {
   "codemirror_mode": {
    "name": "ipython",
    "version": 3
   },
   "file_extension": ".py",
   "mimetype": "text/x-python",
   "name": "python",
   "nbconvert_exporter": "python",
   "pygments_lexer": "ipython3",
   "version": "3.8.5"
  }
 },
 "nbformat": 4,
 "nbformat_minor": 4
}
