{
 "cells": [
  {
   "cell_type": "markdown",
   "metadata": {},
   "source": [
    "\n",
    "# Mapping function for alphanumeric code "
   ]
  },
  {
   "cell_type": "markdown",
   "metadata": {},
   "source": [
    "### Table of Contents\n",
    "[1.  Introduction](#1_Introduction) <br>\n",
    "[2. Imports](#2_Imports) <br>\n",
    "[3. Loading Data from census.gov](#3_Load_census)<br>\n",
    "[4. Mapping function to get the description of alphanumeric code](#4_map_function)<br>\n",
    "[5. Loading census 2010_GROUP_QUARTERS_POPULATION file](#5_group_quarters_pop)<br>\n",
    "[6. Get the description of Alphanumeric code](#6_call_function)<br>\n",
    "&emsp;[6.1 Replace the column header with desciption](#6.1_to_df)<br>\n",
    "&emsp;[6.2 Saving the result to text file](#6.2_to_save)<br>\n",
    "[7. Loading census 2010 Total population file](#7_load_total)<br>\n",
    "[8. Get the description for Alphanumeric code in total population file](#8_load_total)<br>\n",
    "[9. Save the result to total population file](#9_df_saveto)\n",
    "\n",
    "\n",
    "\n",
    "\n",
    "\n"
   ]
  },
  {
   "cell_type": "markdown",
   "metadata": {},
   "source": [
    "### 1. Introduction<a id='1_Introduction'></a>"
   ]
  },
  {
   "cell_type": "markdown",
   "metadata": {},
   "source": [
    "We have queried census data into multiple files.  This data has a headers that consists of alphanumeric codes. The full description of the alphanumeric code could be found in the table which is located here in this html page: https://api.census.gov/data/2010/dec/sf1/variables.html. This project is to create a mapping function that gives the descirption of the alphanumeric code in the Cencus data files."
   ]
  },
  {
   "cell_type": "markdown",
   "metadata": {},
   "source": [
    "### 2. Imports <a id='2_Imports'></a>"
   ]
  },
  {
   "cell_type": "code",
   "execution_count": 1,
   "metadata": {},
   "outputs": [],
   "source": [
    "import pandas as pd\n"
   ]
  },
  {
   "cell_type": "markdown",
   "metadata": {},
   "source": [
    "### 3. Loading Data from cencus.gov <a id='3_Load_census'></a>"
   ]
  },
  {
   "cell_type": "code",
   "execution_count": 2,
   "metadata": {},
   "outputs": [],
   "source": [
    "# Census data URL\n",
    "url = 'https://api.census.gov/data/2010/dec/sf1/variables.html'\n",
    "\n",
    "# URL to DataFrame\n",
    "data_frame = pd.read_html(url)"
   ]
  },
  {
   "cell_type": "code",
   "execution_count": 3,
   "metadata": {
    "scrolled": true
   },
   "outputs": [],
   "source": [
    "census_df = data_frame[0].copy()"
   ]
  },
  {
   "cell_type": "code",
   "execution_count": 4,
   "metadata": {},
   "outputs": [
    {
     "data": {
      "text/html": [
       "<div>\n",
       "<style scoped>\n",
       "    .dataframe tbody tr th:only-of-type {\n",
       "        vertical-align: middle;\n",
       "    }\n",
       "\n",
       "    .dataframe tbody tr th {\n",
       "        vertical-align: top;\n",
       "    }\n",
       "\n",
       "    .dataframe thead th {\n",
       "        text-align: right;\n",
       "    }\n",
       "</style>\n",
       "<table border=\"1\" class=\"dataframe\">\n",
       "  <thead>\n",
       "    <tr style=\"text-align: right;\">\n",
       "      <th></th>\n",
       "      <th>Name</th>\n",
       "      <th>Label</th>\n",
       "      <th>Concept</th>\n",
       "      <th>Required</th>\n",
       "      <th>Attributes</th>\n",
       "      <th>Limit</th>\n",
       "      <th>Predicate Type</th>\n",
       "      <th>Group</th>\n",
       "      <th>Unnamed: 8</th>\n",
       "    </tr>\n",
       "  </thead>\n",
       "  <tbody>\n",
       "    <tr>\n",
       "      <th>0</th>\n",
       "      <td>AIANHH</td>\n",
       "      <td>American Indian Area/Alaska Native Area/Hawaii...</td>\n",
       "      <td>NaN</td>\n",
       "      <td>not required</td>\n",
       "      <td>NaN</td>\n",
       "      <td>0</td>\n",
       "      <td>(not a predicate)</td>\n",
       "      <td>NaN</td>\n",
       "      <td>NaN</td>\n",
       "    </tr>\n",
       "    <tr>\n",
       "      <th>1</th>\n",
       "      <td>AIHHTLI</td>\n",
       "      <td>American Indian Area (Off-Reservation Trust La...</td>\n",
       "      <td>NaN</td>\n",
       "      <td>not required</td>\n",
       "      <td>NaN</td>\n",
       "      <td>0</td>\n",
       "      <td>(not a predicate)</td>\n",
       "      <td>NaN</td>\n",
       "      <td>NaN</td>\n",
       "    </tr>\n",
       "    <tr>\n",
       "      <th>2</th>\n",
       "      <td>AITSCE</td>\n",
       "      <td>American Indian Tribal Subdivision (Census)</td>\n",
       "      <td>NaN</td>\n",
       "      <td>not required</td>\n",
       "      <td>NaN</td>\n",
       "      <td>0</td>\n",
       "      <td>(not a predicate)</td>\n",
       "      <td>NaN</td>\n",
       "      <td>NaN</td>\n",
       "    </tr>\n",
       "    <tr>\n",
       "      <th>3</th>\n",
       "      <td>ANRC</td>\n",
       "      <td>Alaska Native Regional Corporation</td>\n",
       "      <td>NaN</td>\n",
       "      <td>not required</td>\n",
       "      <td>NaN</td>\n",
       "      <td>0</td>\n",
       "      <td>(not a predicate)</td>\n",
       "      <td>NaN</td>\n",
       "      <td>NaN</td>\n",
       "    </tr>\n",
       "    <tr>\n",
       "      <th>4</th>\n",
       "      <td>BLKGRP</td>\n",
       "      <td>Census Block Group</td>\n",
       "      <td>NaN</td>\n",
       "      <td>not required</td>\n",
       "      <td>NaN</td>\n",
       "      <td>0</td>\n",
       "      <td>(not a predicate)</td>\n",
       "      <td>NaN</td>\n",
       "      <td>NaN</td>\n",
       "    </tr>\n",
       "  </tbody>\n",
       "</table>\n",
       "</div>"
      ],
      "text/plain": [
       "      Name                                              Label Concept  \\\n",
       "0   AIANHH  American Indian Area/Alaska Native Area/Hawaii...     NaN   \n",
       "1  AIHHTLI  American Indian Area (Off-Reservation Trust La...     NaN   \n",
       "2   AITSCE        American Indian Tribal Subdivision (Census)     NaN   \n",
       "3     ANRC                 Alaska Native Regional Corporation     NaN   \n",
       "4   BLKGRP                                 Census Block Group     NaN   \n",
       "\n",
       "       Required Attributes Limit     Predicate Type Group Unnamed: 8  \n",
       "0  not required        NaN     0  (not a predicate)   NaN        NaN  \n",
       "1  not required        NaN     0  (not a predicate)   NaN        NaN  \n",
       "2  not required        NaN     0  (not a predicate)   NaN        NaN  \n",
       "3  not required        NaN     0  (not a predicate)   NaN        NaN  \n",
       "4  not required        NaN     0  (not a predicate)   NaN        NaN  "
      ]
     },
     "execution_count": 4,
     "metadata": {},
     "output_type": "execute_result"
    }
   ],
   "source": [
    "#Final census data dataframe\n",
    "census_df.head(5)"
   ]
  },
  {
   "cell_type": "code",
   "execution_count": 5,
   "metadata": {},
   "outputs": [
    {
     "data": {
      "text/plain": [
       "(9001, 9)"
      ]
     },
     "execution_count": 5,
     "metadata": {},
     "output_type": "execute_result"
    }
   ],
   "source": [
    "census_df.shape"
   ]
  },
  {
   "cell_type": "code",
   "execution_count": 6,
   "metadata": {},
   "outputs": [],
   "source": [
    "census_df.drop(columns='Unnamed: 8',inplace=True)"
   ]
  },
  {
   "cell_type": "code",
   "execution_count": 7,
   "metadata": {},
   "outputs": [
    {
     "name": "stdout",
     "output_type": "stream",
     "text": [
      "<class 'pandas.core.frame.DataFrame'>\n",
      "RangeIndex: 9001 entries, 0 to 9000\n",
      "Data columns (total 8 columns):\n",
      " #   Column          Non-Null Count  Dtype \n",
      "---  ------          --------------  ----- \n",
      " 0   Name            9001 non-null   object\n",
      " 1   Label           9001 non-null   object\n",
      " 2   Concept         8964 non-null   object\n",
      " 3   Required        9001 non-null   object\n",
      " 4   Attributes      68 non-null     object\n",
      " 5   Limit           9001 non-null   object\n",
      " 6   Predicate Type  9001 non-null   object\n",
      " 7   Group           8961 non-null   object\n",
      "dtypes: object(8)\n",
      "memory usage: 562.7+ KB\n"
     ]
    }
   ],
   "source": [
    "census_df.info()"
   ]
  },
  {
   "cell_type": "markdown",
   "metadata": {},
   "source": [
    "### 4. Mapping function to get the description of alpha numeric code <a id='4_map_function'></a>"
   ]
  },
  {
   "cell_type": "code",
   "execution_count": 8,
   "metadata": {},
   "outputs": [],
   "source": [
    "#Mapping function to return the column label\n",
    "def column_label(col):\n",
    "    cond = census_df['Name'] == col\n",
    "    result = census_df[cond]['Label']\n",
    "    return result"
   ]
  },
  {
   "cell_type": "code",
   "execution_count": 9,
   "metadata": {},
   "outputs": [
    {
     "data": {
      "text/plain": [
       "0    American Indian Area/Alaska Native Area/Hawaii...\n",
       "Name: Label, dtype: object"
      ]
     },
     "execution_count": 9,
     "metadata": {},
     "output_type": "execute_result"
    }
   ],
   "source": [
    "#Just testing the function\n",
    "column_label('AIANHH')\n"
   ]
  },
  {
   "cell_type": "markdown",
   "metadata": {},
   "source": [
    "### 5. Loading census 2010_GROUP_QUARTERS_POPULATION<a id='5_group_quarters_pop'></a>"
   ]
  },
  {
   "cell_type": "code",
   "execution_count": 10,
   "metadata": {},
   "outputs": [],
   "source": [
    "from io import StringIO \n",
    "\n",
    "with open(\"C:/Users/Gayathri/Desktop/Nexstep_data/census2010_GROUP_QUARTERS_POPULATION.txt\", 'r') as infile:\n",
    "    data = infile.read()\n",
    "    data = data.replace('][',',\\n')\n",
    "    data = data.replace(\"[\", \"\")\n",
    "    data = data.replace(\"]\",\"\")\n",
    "df = pd.read_csv(StringIO(data), error_bad_lines=False)\n",
    "\n"
   ]
  },
  {
   "cell_type": "code",
   "execution_count": 11,
   "metadata": {},
   "outputs": [
    {
     "data": {
      "text/html": [
       "<div>\n",
       "<style scoped>\n",
       "    .dataframe tbody tr th:only-of-type {\n",
       "        vertical-align: middle;\n",
       "    }\n",
       "\n",
       "    .dataframe tbody tr th {\n",
       "        vertical-align: top;\n",
       "    }\n",
       "\n",
       "    .dataframe thead th {\n",
       "        text-align: right;\n",
       "    }\n",
       "</style>\n",
       "<table border=\"1\" class=\"dataframe\">\n",
       "  <thead>\n",
       "    <tr style=\"text-align: right;\">\n",
       "      <th></th>\n",
       "      <th>NAME</th>\n",
       "      <th>GEO_ID</th>\n",
       "      <th>GEO_ID.1</th>\n",
       "      <th>PCO010001</th>\n",
       "      <th>PCO010002</th>\n",
       "      <th>PCO010003</th>\n",
       "      <th>PCO010004</th>\n",
       "      <th>PCO010005</th>\n",
       "      <th>PCO010006</th>\n",
       "      <th>PCO010007</th>\n",
       "      <th>...</th>\n",
       "      <th>PCO010035</th>\n",
       "      <th>PCO010036</th>\n",
       "      <th>PCO010037</th>\n",
       "      <th>PCO010038</th>\n",
       "      <th>PCO010039</th>\n",
       "      <th>NAME.1</th>\n",
       "      <th>state</th>\n",
       "      <th>county</th>\n",
       "      <th>tract</th>\n",
       "      <th>Unnamed: 46</th>\n",
       "    </tr>\n",
       "  </thead>\n",
       "  <tbody>\n",
       "    <tr>\n",
       "      <th>0</th>\n",
       "      <td>Census Tract 201, Autauga County, Alabama</td>\n",
       "      <td>1400000US01001020100</td>\n",
       "      <td>1400000US01001020100</td>\n",
       "      <td>NaN</td>\n",
       "      <td>NaN</td>\n",
       "      <td>NaN</td>\n",
       "      <td>NaN</td>\n",
       "      <td>NaN</td>\n",
       "      <td>NaN</td>\n",
       "      <td>NaN</td>\n",
       "      <td>...</td>\n",
       "      <td>NaN</td>\n",
       "      <td>NaN</td>\n",
       "      <td>NaN</td>\n",
       "      <td>NaN</td>\n",
       "      <td>NaN</td>\n",
       "      <td>Census Tract 201, Autauga County, Alabama</td>\n",
       "      <td>01</td>\n",
       "      <td>001</td>\n",
       "      <td>020100</td>\n",
       "      <td>NaN</td>\n",
       "    </tr>\n",
       "    <tr>\n",
       "      <th>1</th>\n",
       "      <td>Census Tract 205, Autauga County, Alabama</td>\n",
       "      <td>1400000US01001020500</td>\n",
       "      <td>1400000US01001020500</td>\n",
       "      <td>NaN</td>\n",
       "      <td>NaN</td>\n",
       "      <td>NaN</td>\n",
       "      <td>NaN</td>\n",
       "      <td>NaN</td>\n",
       "      <td>NaN</td>\n",
       "      <td>NaN</td>\n",
       "      <td>...</td>\n",
       "      <td>NaN</td>\n",
       "      <td>NaN</td>\n",
       "      <td>NaN</td>\n",
       "      <td>NaN</td>\n",
       "      <td>NaN</td>\n",
       "      <td>Census Tract 205, Autauga County, Alabama</td>\n",
       "      <td>01</td>\n",
       "      <td>001</td>\n",
       "      <td>020500</td>\n",
       "      <td>NaN</td>\n",
       "    </tr>\n",
       "    <tr>\n",
       "      <th>2</th>\n",
       "      <td>Census Tract 203, Autauga County, Alabama</td>\n",
       "      <td>1400000US01001020300</td>\n",
       "      <td>1400000US01001020300</td>\n",
       "      <td>NaN</td>\n",
       "      <td>NaN</td>\n",
       "      <td>NaN</td>\n",
       "      <td>NaN</td>\n",
       "      <td>NaN</td>\n",
       "      <td>NaN</td>\n",
       "      <td>NaN</td>\n",
       "      <td>...</td>\n",
       "      <td>NaN</td>\n",
       "      <td>NaN</td>\n",
       "      <td>NaN</td>\n",
       "      <td>NaN</td>\n",
       "      <td>NaN</td>\n",
       "      <td>Census Tract 203, Autauga County, Alabama</td>\n",
       "      <td>01</td>\n",
       "      <td>001</td>\n",
       "      <td>020300</td>\n",
       "      <td>NaN</td>\n",
       "    </tr>\n",
       "    <tr>\n",
       "      <th>3</th>\n",
       "      <td>Census Tract 204, Autauga County, Alabama</td>\n",
       "      <td>1400000US01001020400</td>\n",
       "      <td>1400000US01001020400</td>\n",
       "      <td>NaN</td>\n",
       "      <td>NaN</td>\n",
       "      <td>NaN</td>\n",
       "      <td>NaN</td>\n",
       "      <td>NaN</td>\n",
       "      <td>NaN</td>\n",
       "      <td>NaN</td>\n",
       "      <td>...</td>\n",
       "      <td>NaN</td>\n",
       "      <td>NaN</td>\n",
       "      <td>NaN</td>\n",
       "      <td>NaN</td>\n",
       "      <td>NaN</td>\n",
       "      <td>Census Tract 204, Autauga County, Alabama</td>\n",
       "      <td>01</td>\n",
       "      <td>001</td>\n",
       "      <td>020400</td>\n",
       "      <td>NaN</td>\n",
       "    </tr>\n",
       "  </tbody>\n",
       "</table>\n",
       "<p>4 rows × 47 columns</p>\n",
       "</div>"
      ],
      "text/plain": [
       "                                        NAME                GEO_ID  \\\n",
       "0  Census Tract 201, Autauga County, Alabama  1400000US01001020100   \n",
       "1  Census Tract 205, Autauga County, Alabama  1400000US01001020500   \n",
       "2  Census Tract 203, Autauga County, Alabama  1400000US01001020300   \n",
       "3  Census Tract 204, Autauga County, Alabama  1400000US01001020400   \n",
       "\n",
       "               GEO_ID.1 PCO010001 PCO010002 PCO010003 PCO010004 PCO010005  \\\n",
       "0  1400000US01001020100       NaN       NaN       NaN       NaN       NaN   \n",
       "1  1400000US01001020500       NaN       NaN       NaN       NaN       NaN   \n",
       "2  1400000US01001020300       NaN       NaN       NaN       NaN       NaN   \n",
       "3  1400000US01001020400       NaN       NaN       NaN       NaN       NaN   \n",
       "\n",
       "  PCO010006 PCO010007  ... PCO010035 PCO010036 PCO010037 PCO010038 PCO010039  \\\n",
       "0       NaN       NaN  ...       NaN       NaN       NaN       NaN       NaN   \n",
       "1       NaN       NaN  ...       NaN       NaN       NaN       NaN       NaN   \n",
       "2       NaN       NaN  ...       NaN       NaN       NaN       NaN       NaN   \n",
       "3       NaN       NaN  ...       NaN       NaN       NaN       NaN       NaN   \n",
       "\n",
       "                                      NAME.1 state county   tract Unnamed: 46  \n",
       "0  Census Tract 201, Autauga County, Alabama    01    001  020100         NaN  \n",
       "1  Census Tract 205, Autauga County, Alabama    01    001  020500         NaN  \n",
       "2  Census Tract 203, Autauga County, Alabama    01    001  020300         NaN  \n",
       "3  Census Tract 204, Autauga County, Alabama    01    001  020400         NaN  \n",
       "\n",
       "[4 rows x 47 columns]"
      ]
     },
     "execution_count": 11,
     "metadata": {},
     "output_type": "execute_result"
    }
   ],
   "source": [
    "df.head(4)"
   ]
  },
  {
   "cell_type": "code",
   "execution_count": 30,
   "metadata": {},
   "outputs": [
    {
     "data": {
      "text/plain": [
       "(67712, 47)"
      ]
     },
     "execution_count": 30,
     "metadata": {},
     "output_type": "execute_result"
    }
   ],
   "source": [
    "df.shape"
   ]
  },
  {
   "cell_type": "code",
   "execution_count": 12,
   "metadata": {},
   "outputs": [
    {
     "data": {
      "text/plain": [
       "Index(['NAME', 'GEO_ID', 'GEO_ID.1', 'PCO010001', 'PCO010002', 'PCO010003',\n",
       "       'PCO010004', 'PCO010005', 'PCO010006', 'PCO010007', 'PCO010008',\n",
       "       'PCO010009', 'PCO010010', 'PCO010011', 'PCO010012', 'PCO010013',\n",
       "       'PCO010014', 'PCO010015', 'PCO010016', 'PCO010017', 'PCO010018',\n",
       "       'PCO010019', 'PCO010020', 'PCO010021', 'PCO010022', 'PCO010023',\n",
       "       'PCO010024', 'PCO010025', 'PCO010026', 'PCO010027', 'PCO010028',\n",
       "       'PCO010029', 'PCO010030', 'PCO010031', 'PCO010032', 'PCO010033',\n",
       "       'PCO010034', 'PCO010035', 'PCO010036', 'PCO010037', 'PCO010038',\n",
       "       'PCO010039', 'NAME.1', 'state', 'county', 'tract', 'Unnamed: 46'],\n",
       "      dtype='object')"
      ]
     },
     "execution_count": 12,
     "metadata": {},
     "output_type": "execute_result"
    }
   ],
   "source": [
    "df.columns"
   ]
  },
  {
   "cell_type": "code",
   "execution_count": 13,
   "metadata": {},
   "outputs": [],
   "source": [
    "lis = ['PCO010001', 'PCO010002', 'PCO010003',\n",
    "       'PCO010004', 'PCO010005', 'PCO010006', 'PCO010007', 'PCO010008',\n",
    "       'PCO010009', 'PCO010010', 'PCO010011', 'PCO010012', 'PCO010013',\n",
    "       'PCO010014', 'PCO010015', 'PCO010016', 'PCO010017', 'PCO010018',\n",
    "       'PCO010019', 'PCO010020', 'PCO010021', 'PCO010022', 'PCO010023',\n",
    "       'PCO010024', 'PCO010025', 'PCO010026', 'PCO010027', 'PCO010028',\n",
    "       'PCO010029', 'PCO010030', 'PCO010031', 'PCO010032', 'PCO010033',\n",
    "       'PCO010034', 'PCO010035', 'PCO010036', 'PCO010037', 'PCO010038',\n",
    "       'PCO010039']"
   ]
  },
  {
   "cell_type": "markdown",
   "metadata": {},
   "source": [
    "### 6. Get the description of Alphanumeric code <a id='6_call_function'></a>"
   ]
  },
  {
   "cell_type": "code",
   "execution_count": 14,
   "metadata": {},
   "outputs": [],
   "source": [
    "# For each alphanumeric column calling column_lable function\n",
    "# Storing the result in Dictionary\n",
    "dic = {}\n",
    "dic = {}\n",
    "for col in lis:\n",
    "    descript = column_label(col)\n",
    "    dic[col] = str(descript.values)\n",
    "\n",
    "\n"
   ]
  },
  {
   "cell_type": "markdown",
   "metadata": {},
   "source": [
    "### 6.1 Replace the column header with desciption <a id='6.1_to_df'></a>"
   ]
  },
  {
   "cell_type": "code",
   "execution_count": 15,
   "metadata": {},
   "outputs": [],
   "source": [
    "df.rename(columns=dic,inplace=True)"
   ]
  },
  {
   "cell_type": "code",
   "execution_count": 16,
   "metadata": {
    "scrolled": true
   },
   "outputs": [
    {
     "data": {
      "text/html": [
       "<div>\n",
       "<style scoped>\n",
       "    .dataframe tbody tr th:only-of-type {\n",
       "        vertical-align: middle;\n",
       "    }\n",
       "\n",
       "    .dataframe tbody tr th {\n",
       "        vertical-align: top;\n",
       "    }\n",
       "\n",
       "    .dataframe thead th {\n",
       "        text-align: right;\n",
       "    }\n",
       "</style>\n",
       "<table border=\"1\" class=\"dataframe\">\n",
       "  <thead>\n",
       "    <tr style=\"text-align: right;\">\n",
       "      <th></th>\n",
       "      <th>NAME</th>\n",
       "      <th>GEO_ID</th>\n",
       "      <th>GEO_ID.1</th>\n",
       "      <th>['Total (701-702, 704, 706, 801-802, 900-901, 903-904)']</th>\n",
       "      <th>['Total (701-702, 704, 706, 801-802, 900-901, 903-904)!!Male']</th>\n",
       "      <th>['Total (701-702, 704, 706, 801-802, 900-901, 903-904)!!Male!!Under 5 years']</th>\n",
       "      <th>['Total (701-702, 704, 706, 801-802, 900-901, 903-904)!!Male!!5 to 9 years']</th>\n",
       "      <th>['Total (701-702, 704, 706, 801-802, 900-901, 903-904)!!Male!!10 to 14 years']</th>\n",
       "      <th>['Total (701-702, 704, 706, 801-802, 900-901, 903-904)!!Male!!15 to 19 years']</th>\n",
       "      <th>['Total (701-702, 704, 706, 801-802, 900-901, 903-904)!!Male!!20 to 24 years']</th>\n",
       "      <th>...</th>\n",
       "      <th>['Total (701-702, 704, 706, 801-802, 900-901, 903-904)!!Female!!65 to 69 years']</th>\n",
       "      <th>['Total (701-702, 704, 706, 801-802, 900-901, 903-904)!!Female!!70 to 74 years']</th>\n",
       "      <th>['Total (701-702, 704, 706, 801-802, 900-901, 903-904)!!Female!!75 to 79 years']</th>\n",
       "      <th>['Total (701-702, 704, 706, 801-802, 900-901, 903-904)!!Female!!80 to 84 years']</th>\n",
       "      <th>['Total (701-702, 704, 706, 801-802, 900-901, 903-904)!!Female!!85 years and over']</th>\n",
       "      <th>NAME.1</th>\n",
       "      <th>state</th>\n",
       "      <th>county</th>\n",
       "      <th>tract</th>\n",
       "      <th>Unnamed: 46</th>\n",
       "    </tr>\n",
       "  </thead>\n",
       "  <tbody>\n",
       "    <tr>\n",
       "      <th>0</th>\n",
       "      <td>Census Tract 201, Autauga County, Alabama</td>\n",
       "      <td>1400000US01001020100</td>\n",
       "      <td>1400000US01001020100</td>\n",
       "      <td>NaN</td>\n",
       "      <td>NaN</td>\n",
       "      <td>NaN</td>\n",
       "      <td>NaN</td>\n",
       "      <td>NaN</td>\n",
       "      <td>NaN</td>\n",
       "      <td>NaN</td>\n",
       "      <td>...</td>\n",
       "      <td>NaN</td>\n",
       "      <td>NaN</td>\n",
       "      <td>NaN</td>\n",
       "      <td>NaN</td>\n",
       "      <td>NaN</td>\n",
       "      <td>Census Tract 201, Autauga County, Alabama</td>\n",
       "      <td>01</td>\n",
       "      <td>001</td>\n",
       "      <td>020100</td>\n",
       "      <td>NaN</td>\n",
       "    </tr>\n",
       "    <tr>\n",
       "      <th>1</th>\n",
       "      <td>Census Tract 205, Autauga County, Alabama</td>\n",
       "      <td>1400000US01001020500</td>\n",
       "      <td>1400000US01001020500</td>\n",
       "      <td>NaN</td>\n",
       "      <td>NaN</td>\n",
       "      <td>NaN</td>\n",
       "      <td>NaN</td>\n",
       "      <td>NaN</td>\n",
       "      <td>NaN</td>\n",
       "      <td>NaN</td>\n",
       "      <td>...</td>\n",
       "      <td>NaN</td>\n",
       "      <td>NaN</td>\n",
       "      <td>NaN</td>\n",
       "      <td>NaN</td>\n",
       "      <td>NaN</td>\n",
       "      <td>Census Tract 205, Autauga County, Alabama</td>\n",
       "      <td>01</td>\n",
       "      <td>001</td>\n",
       "      <td>020500</td>\n",
       "      <td>NaN</td>\n",
       "    </tr>\n",
       "    <tr>\n",
       "      <th>2</th>\n",
       "      <td>Census Tract 203, Autauga County, Alabama</td>\n",
       "      <td>1400000US01001020300</td>\n",
       "      <td>1400000US01001020300</td>\n",
       "      <td>NaN</td>\n",
       "      <td>NaN</td>\n",
       "      <td>NaN</td>\n",
       "      <td>NaN</td>\n",
       "      <td>NaN</td>\n",
       "      <td>NaN</td>\n",
       "      <td>NaN</td>\n",
       "      <td>...</td>\n",
       "      <td>NaN</td>\n",
       "      <td>NaN</td>\n",
       "      <td>NaN</td>\n",
       "      <td>NaN</td>\n",
       "      <td>NaN</td>\n",
       "      <td>Census Tract 203, Autauga County, Alabama</td>\n",
       "      <td>01</td>\n",
       "      <td>001</td>\n",
       "      <td>020300</td>\n",
       "      <td>NaN</td>\n",
       "    </tr>\n",
       "    <tr>\n",
       "      <th>3</th>\n",
       "      <td>Census Tract 204, Autauga County, Alabama</td>\n",
       "      <td>1400000US01001020400</td>\n",
       "      <td>1400000US01001020400</td>\n",
       "      <td>NaN</td>\n",
       "      <td>NaN</td>\n",
       "      <td>NaN</td>\n",
       "      <td>NaN</td>\n",
       "      <td>NaN</td>\n",
       "      <td>NaN</td>\n",
       "      <td>NaN</td>\n",
       "      <td>...</td>\n",
       "      <td>NaN</td>\n",
       "      <td>NaN</td>\n",
       "      <td>NaN</td>\n",
       "      <td>NaN</td>\n",
       "      <td>NaN</td>\n",
       "      <td>Census Tract 204, Autauga County, Alabama</td>\n",
       "      <td>01</td>\n",
       "      <td>001</td>\n",
       "      <td>020400</td>\n",
       "      <td>NaN</td>\n",
       "    </tr>\n",
       "  </tbody>\n",
       "</table>\n",
       "<p>4 rows × 47 columns</p>\n",
       "</div>"
      ],
      "text/plain": [
       "                                        NAME                GEO_ID  \\\n",
       "0  Census Tract 201, Autauga County, Alabama  1400000US01001020100   \n",
       "1  Census Tract 205, Autauga County, Alabama  1400000US01001020500   \n",
       "2  Census Tract 203, Autauga County, Alabama  1400000US01001020300   \n",
       "3  Census Tract 204, Autauga County, Alabama  1400000US01001020400   \n",
       "\n",
       "               GEO_ID.1  \\\n",
       "0  1400000US01001020100   \n",
       "1  1400000US01001020500   \n",
       "2  1400000US01001020300   \n",
       "3  1400000US01001020400   \n",
       "\n",
       "  ['Total (701-702, 704, 706, 801-802, 900-901, 903-904)']  \\\n",
       "0                                                NaN         \n",
       "1                                                NaN         \n",
       "2                                                NaN         \n",
       "3                                                NaN         \n",
       "\n",
       "  ['Total (701-702, 704, 706, 801-802, 900-901, 903-904)!!Male']  \\\n",
       "0                                                NaN               \n",
       "1                                                NaN               \n",
       "2                                                NaN               \n",
       "3                                                NaN               \n",
       "\n",
       "  ['Total (701-702, 704, 706, 801-802, 900-901, 903-904)!!Male!!Under 5 years']  \\\n",
       "0                                                NaN                              \n",
       "1                                                NaN                              \n",
       "2                                                NaN                              \n",
       "3                                                NaN                              \n",
       "\n",
       "  ['Total (701-702, 704, 706, 801-802, 900-901, 903-904)!!Male!!5 to 9 years']  \\\n",
       "0                                                NaN                             \n",
       "1                                                NaN                             \n",
       "2                                                NaN                             \n",
       "3                                                NaN                             \n",
       "\n",
       "  ['Total (701-702, 704, 706, 801-802, 900-901, 903-904)!!Male!!10 to 14 years']  \\\n",
       "0                                                NaN                               \n",
       "1                                                NaN                               \n",
       "2                                                NaN                               \n",
       "3                                                NaN                               \n",
       "\n",
       "  ['Total (701-702, 704, 706, 801-802, 900-901, 903-904)!!Male!!15 to 19 years']  \\\n",
       "0                                                NaN                               \n",
       "1                                                NaN                               \n",
       "2                                                NaN                               \n",
       "3                                                NaN                               \n",
       "\n",
       "  ['Total (701-702, 704, 706, 801-802, 900-901, 903-904)!!Male!!20 to 24 years']  \\\n",
       "0                                                NaN                               \n",
       "1                                                NaN                               \n",
       "2                                                NaN                               \n",
       "3                                                NaN                               \n",
       "\n",
       "   ...  \\\n",
       "0  ...   \n",
       "1  ...   \n",
       "2  ...   \n",
       "3  ...   \n",
       "\n",
       "  ['Total (701-702, 704, 706, 801-802, 900-901, 903-904)!!Female!!65 to 69 years']  \\\n",
       "0                                                NaN                                 \n",
       "1                                                NaN                                 \n",
       "2                                                NaN                                 \n",
       "3                                                NaN                                 \n",
       "\n",
       "  ['Total (701-702, 704, 706, 801-802, 900-901, 903-904)!!Female!!70 to 74 years']  \\\n",
       "0                                                NaN                                 \n",
       "1                                                NaN                                 \n",
       "2                                                NaN                                 \n",
       "3                                                NaN                                 \n",
       "\n",
       "  ['Total (701-702, 704, 706, 801-802, 900-901, 903-904)!!Female!!75 to 79 years']  \\\n",
       "0                                                NaN                                 \n",
       "1                                                NaN                                 \n",
       "2                                                NaN                                 \n",
       "3                                                NaN                                 \n",
       "\n",
       "  ['Total (701-702, 704, 706, 801-802, 900-901, 903-904)!!Female!!80 to 84 years']  \\\n",
       "0                                                NaN                                 \n",
       "1                                                NaN                                 \n",
       "2                                                NaN                                 \n",
       "3                                                NaN                                 \n",
       "\n",
       "  ['Total (701-702, 704, 706, 801-802, 900-901, 903-904)!!Female!!85 years and over']  \\\n",
       "0                                                NaN                                    \n",
       "1                                                NaN                                    \n",
       "2                                                NaN                                    \n",
       "3                                                NaN                                    \n",
       "\n",
       "                                      NAME.1 state county   tract Unnamed: 46  \n",
       "0  Census Tract 201, Autauga County, Alabama    01    001  020100         NaN  \n",
       "1  Census Tract 205, Autauga County, Alabama    01    001  020500         NaN  \n",
       "2  Census Tract 203, Autauga County, Alabama    01    001  020300         NaN  \n",
       "3  Census Tract 204, Autauga County, Alabama    01    001  020400         NaN  \n",
       "\n",
       "[4 rows x 47 columns]"
      ]
     },
     "execution_count": 16,
     "metadata": {},
     "output_type": "execute_result"
    }
   ],
   "source": [
    "df.head(4)"
   ]
  },
  {
   "cell_type": "markdown",
   "metadata": {},
   "source": [
    "### 6.2 Saving the result to text file <a id='6.2_to_save'></a>"
   ]
  },
  {
   "cell_type": "code",
   "execution_count": 17,
   "metadata": {},
   "outputs": [],
   "source": [
    "df.to_csv(r'C:/Users/Gayathri/Desktop/census2010_GROUP_QUARTERS_POPULATION_mapped.txt', index=False,na_rep='NULL')\n",
    "\n"
   ]
  },
  {
   "cell_type": "markdown",
   "metadata": {},
   "source": [
    "### 7. Loading cencus 2010 total population file<a id='7_load_total'></a>"
   ]
  },
  {
   "cell_type": "code",
   "execution_count": 21,
   "metadata": {},
   "outputs": [],
   "source": [
    "# Reading the text file\n",
    "file = \"C:/Users/Gayathri/Desktop/Nexstep_data/census2010_TOTAL POPULATION.txt\"\n",
    "\n",
    "with open(file, 'r') as infile:\n",
    "    data = infile.read()\n",
    "    data = data.replace('][',',\\n')\n",
    "    data = data.replace(\"[\", \"\")\n",
    "    data = data.replace(\"]\",\"\")\n",
    "df_1 = pd.read_csv(StringIO(data), error_bad_lines=False,low_memory=False)\n"
   ]
  },
  {
   "cell_type": "code",
   "execution_count": 22,
   "metadata": {
    "scrolled": true
   },
   "outputs": [
    {
     "data": {
      "text/html": [
       "<div>\n",
       "<style scoped>\n",
       "    .dataframe tbody tr th:only-of-type {\n",
       "        vertical-align: middle;\n",
       "    }\n",
       "\n",
       "    .dataframe tbody tr th {\n",
       "        vertical-align: top;\n",
       "    }\n",
       "\n",
       "    .dataframe thead th {\n",
       "        text-align: right;\n",
       "    }\n",
       "</style>\n",
       "<table border=\"1\" class=\"dataframe\">\n",
       "  <thead>\n",
       "    <tr style=\"text-align: right;\">\n",
       "      <th></th>\n",
       "      <th>NAME</th>\n",
       "      <th>GEO_ID</th>\n",
       "      <th>GEO_ID.1</th>\n",
       "      <th>NAME.1</th>\n",
       "      <th>PCT001001</th>\n",
       "      <th>PCT001001ERR</th>\n",
       "      <th>POPGROUP</th>\n",
       "      <th>POPGROUP_TTL</th>\n",
       "      <th>state</th>\n",
       "      <th>county</th>\n",
       "      <th>tract</th>\n",
       "      <th>Unnamed: 11</th>\n",
       "    </tr>\n",
       "  </thead>\n",
       "  <tbody>\n",
       "    <tr>\n",
       "      <th>0</th>\n",
       "      <td>Census Tract 201, Autauga County, Alabama</td>\n",
       "      <td>1400000US01001020100</td>\n",
       "      <td>1400000US01001020100</td>\n",
       "      <td>Census Tract 201, Autauga County, Alabama</td>\n",
       "      <td>1912</td>\n",
       "      <td>NaN</td>\n",
       "      <td>001</td>\n",
       "      <td>Total population</td>\n",
       "      <td>01</td>\n",
       "      <td>001</td>\n",
       "      <td>020100</td>\n",
       "      <td>NaN</td>\n",
       "    </tr>\n",
       "    <tr>\n",
       "      <th>1</th>\n",
       "      <td>Census Tract 201, Autauga County, Alabama</td>\n",
       "      <td>1400000US01001020100</td>\n",
       "      <td>1400000US01001020100</td>\n",
       "      <td>Census Tract 201, Autauga County, Alabama</td>\n",
       "      <td>1622</td>\n",
       "      <td>NaN</td>\n",
       "      <td>002</td>\n",
       "      <td>White alone</td>\n",
       "      <td>01</td>\n",
       "      <td>001</td>\n",
       "      <td>020100</td>\n",
       "      <td>NaN</td>\n",
       "    </tr>\n",
       "    <tr>\n",
       "      <th>2</th>\n",
       "      <td>Census Tract 201, Autauga County, Alabama</td>\n",
       "      <td>1400000US01001020100</td>\n",
       "      <td>1400000US01001020100</td>\n",
       "      <td>Census Tract 201, Autauga County, Alabama</td>\n",
       "      <td>1645</td>\n",
       "      <td>NaN</td>\n",
       "      <td>003</td>\n",
       "      <td>White alone or in combination with one or more...</td>\n",
       "      <td>01</td>\n",
       "      <td>001</td>\n",
       "      <td>020100</td>\n",
       "      <td>NaN</td>\n",
       "    </tr>\n",
       "    <tr>\n",
       "      <th>3</th>\n",
       "      <td>Census Tract 201, Autauga County, Alabama</td>\n",
       "      <td>1400000US01001020100</td>\n",
       "      <td>1400000US01001020100</td>\n",
       "      <td>Census Tract 201, Autauga County, Alabama</td>\n",
       "      <td>229</td>\n",
       "      <td>NaN</td>\n",
       "      <td>005</td>\n",
       "      <td>Black or African American alone or in combinat...</td>\n",
       "      <td>01</td>\n",
       "      <td>001</td>\n",
       "      <td>020100</td>\n",
       "      <td>NaN</td>\n",
       "    </tr>\n",
       "  </tbody>\n",
       "</table>\n",
       "</div>"
      ],
      "text/plain": [
       "                                        NAME                GEO_ID  \\\n",
       "0  Census Tract 201, Autauga County, Alabama  1400000US01001020100   \n",
       "1  Census Tract 201, Autauga County, Alabama  1400000US01001020100   \n",
       "2  Census Tract 201, Autauga County, Alabama  1400000US01001020100   \n",
       "3  Census Tract 201, Autauga County, Alabama  1400000US01001020100   \n",
       "\n",
       "               GEO_ID.1                                     NAME.1 PCT001001  \\\n",
       "0  1400000US01001020100  Census Tract 201, Autauga County, Alabama      1912   \n",
       "1  1400000US01001020100  Census Tract 201, Autauga County, Alabama      1622   \n",
       "2  1400000US01001020100  Census Tract 201, Autauga County, Alabama      1645   \n",
       "3  1400000US01001020100  Census Tract 201, Autauga County, Alabama       229   \n",
       "\n",
       "  PCT001001ERR POPGROUP                                       POPGROUP_TTL  \\\n",
       "0          NaN      001                                   Total population   \n",
       "1          NaN      002                                        White alone   \n",
       "2          NaN      003  White alone or in combination with one or more...   \n",
       "3          NaN      005  Black or African American alone or in combinat...   \n",
       "\n",
       "  state county   tract  Unnamed: 11  \n",
       "0    01    001  020100          NaN  \n",
       "1    01    001  020100          NaN  \n",
       "2    01    001  020100          NaN  \n",
       "3    01    001  020100          NaN  "
      ]
     },
     "execution_count": 22,
     "metadata": {},
     "output_type": "execute_result"
    }
   ],
   "source": [
    "df_1.head(4)"
   ]
  },
  {
   "cell_type": "markdown",
   "metadata": {},
   "source": [
    "### 8. Get the description for Alphanumeric code in total population file <a id='8_load_total'></a>\n"
   ]
  },
  {
   "cell_type": "code",
   "execution_count": 26,
   "metadata": {},
   "outputs": [],
   "source": [
    "dict1 = {}\n",
    "# Calling the function column_lable and storing the result in dict\n",
    "descript1 = column_label('PCT001001')\n",
    "dict1['PCT001001'] = str(descript.values)"
   ]
  },
  {
   "cell_type": "code",
   "execution_count": 27,
   "metadata": {},
   "outputs": [],
   "source": [
    "df_1.rename(columns=dict1,inplace=True)"
   ]
  },
  {
   "cell_type": "code",
   "execution_count": 28,
   "metadata": {},
   "outputs": [
    {
     "data": {
      "text/html": [
       "<div>\n",
       "<style scoped>\n",
       "    .dataframe tbody tr th:only-of-type {\n",
       "        vertical-align: middle;\n",
       "    }\n",
       "\n",
       "    .dataframe tbody tr th {\n",
       "        vertical-align: top;\n",
       "    }\n",
       "\n",
       "    .dataframe thead th {\n",
       "        text-align: right;\n",
       "    }\n",
       "</style>\n",
       "<table border=\"1\" class=\"dataframe\">\n",
       "  <thead>\n",
       "    <tr style=\"text-align: right;\">\n",
       "      <th></th>\n",
       "      <th>NAME</th>\n",
       "      <th>GEO_ID</th>\n",
       "      <th>GEO_ID.1</th>\n",
       "      <th>NAME.1</th>\n",
       "      <th>['Total (701-702, 704, 706, 801-802, 900-901, 903-904)!!Female!!85 years and over']</th>\n",
       "      <th>PCT001001ERR</th>\n",
       "      <th>POPGROUP</th>\n",
       "      <th>POPGROUP_TTL</th>\n",
       "      <th>state</th>\n",
       "      <th>county</th>\n",
       "      <th>tract</th>\n",
       "      <th>Unnamed: 11</th>\n",
       "    </tr>\n",
       "  </thead>\n",
       "  <tbody>\n",
       "    <tr>\n",
       "      <th>0</th>\n",
       "      <td>Census Tract 201, Autauga County, Alabama</td>\n",
       "      <td>1400000US01001020100</td>\n",
       "      <td>1400000US01001020100</td>\n",
       "      <td>Census Tract 201, Autauga County, Alabama</td>\n",
       "      <td>1912</td>\n",
       "      <td>NaN</td>\n",
       "      <td>001</td>\n",
       "      <td>Total population</td>\n",
       "      <td>01</td>\n",
       "      <td>001</td>\n",
       "      <td>020100</td>\n",
       "      <td>NaN</td>\n",
       "    </tr>\n",
       "    <tr>\n",
       "      <th>1</th>\n",
       "      <td>Census Tract 201, Autauga County, Alabama</td>\n",
       "      <td>1400000US01001020100</td>\n",
       "      <td>1400000US01001020100</td>\n",
       "      <td>Census Tract 201, Autauga County, Alabama</td>\n",
       "      <td>1622</td>\n",
       "      <td>NaN</td>\n",
       "      <td>002</td>\n",
       "      <td>White alone</td>\n",
       "      <td>01</td>\n",
       "      <td>001</td>\n",
       "      <td>020100</td>\n",
       "      <td>NaN</td>\n",
       "    </tr>\n",
       "    <tr>\n",
       "      <th>2</th>\n",
       "      <td>Census Tract 201, Autauga County, Alabama</td>\n",
       "      <td>1400000US01001020100</td>\n",
       "      <td>1400000US01001020100</td>\n",
       "      <td>Census Tract 201, Autauga County, Alabama</td>\n",
       "      <td>1645</td>\n",
       "      <td>NaN</td>\n",
       "      <td>003</td>\n",
       "      <td>White alone or in combination with one or more...</td>\n",
       "      <td>01</td>\n",
       "      <td>001</td>\n",
       "      <td>020100</td>\n",
       "      <td>NaN</td>\n",
       "    </tr>\n",
       "    <tr>\n",
       "      <th>3</th>\n",
       "      <td>Census Tract 201, Autauga County, Alabama</td>\n",
       "      <td>1400000US01001020100</td>\n",
       "      <td>1400000US01001020100</td>\n",
       "      <td>Census Tract 201, Autauga County, Alabama</td>\n",
       "      <td>229</td>\n",
       "      <td>NaN</td>\n",
       "      <td>005</td>\n",
       "      <td>Black or African American alone or in combinat...</td>\n",
       "      <td>01</td>\n",
       "      <td>001</td>\n",
       "      <td>020100</td>\n",
       "      <td>NaN</td>\n",
       "    </tr>\n",
       "  </tbody>\n",
       "</table>\n",
       "</div>"
      ],
      "text/plain": [
       "                                        NAME                GEO_ID  \\\n",
       "0  Census Tract 201, Autauga County, Alabama  1400000US01001020100   \n",
       "1  Census Tract 201, Autauga County, Alabama  1400000US01001020100   \n",
       "2  Census Tract 201, Autauga County, Alabama  1400000US01001020100   \n",
       "3  Census Tract 201, Autauga County, Alabama  1400000US01001020100   \n",
       "\n",
       "               GEO_ID.1                                     NAME.1  \\\n",
       "0  1400000US01001020100  Census Tract 201, Autauga County, Alabama   \n",
       "1  1400000US01001020100  Census Tract 201, Autauga County, Alabama   \n",
       "2  1400000US01001020100  Census Tract 201, Autauga County, Alabama   \n",
       "3  1400000US01001020100  Census Tract 201, Autauga County, Alabama   \n",
       "\n",
       "  ['Total (701-702, 704, 706, 801-802, 900-901, 903-904)!!Female!!85 years and over']  \\\n",
       "0                                               1912                                    \n",
       "1                                               1622                                    \n",
       "2                                               1645                                    \n",
       "3                                                229                                    \n",
       "\n",
       "  PCT001001ERR POPGROUP                                       POPGROUP_TTL  \\\n",
       "0          NaN      001                                   Total population   \n",
       "1          NaN      002                                        White alone   \n",
       "2          NaN      003  White alone or in combination with one or more...   \n",
       "3          NaN      005  Black or African American alone or in combinat...   \n",
       "\n",
       "  state county   tract  Unnamed: 11  \n",
       "0    01    001  020100          NaN  \n",
       "1    01    001  020100          NaN  \n",
       "2    01    001  020100          NaN  \n",
       "3    01    001  020100          NaN  "
      ]
     },
     "execution_count": 28,
     "metadata": {},
     "output_type": "execute_result"
    }
   ],
   "source": [
    "df_1.head(4)"
   ]
  },
  {
   "cell_type": "markdown",
   "metadata": {},
   "source": [
    "### 9. Save the result to total population file <a id='9_df_saveto'></a>\n"
   ]
  },
  {
   "cell_type": "code",
   "execution_count": 29,
   "metadata": {},
   "outputs": [],
   "source": [
    "df_1.to_csv(r'C:/Users/Gayathri/Desktop/census2010_TOTAL POPULATION_mapped.txt', index=False,na_rep='NULL')"
   ]
  },
  {
   "cell_type": "code",
   "execution_count": null,
   "metadata": {},
   "outputs": [],
   "source": []
  }
 ],
 "metadata": {
  "kernelspec": {
   "display_name": "Python 3",
   "language": "python",
   "name": "python3"
  },
  "language_info": {
   "codemirror_mode": {
    "name": "ipython",
    "version": 3
   },
   "file_extension": ".py",
   "mimetype": "text/x-python",
   "name": "python",
   "nbconvert_exporter": "python",
   "pygments_lexer": "ipython3",
   "version": "3.8.5"
  }
 },
 "nbformat": 4,
 "nbformat_minor": 4
}
